{
 "cells": [
  {
   "cell_type": "code",
   "execution_count": 32,
   "metadata": {},
   "outputs": [
    {
     "name": "stdout",
     "output_type": "stream",
     "text": [
      "4\n"
     ]
    }
   ],
   "source": [
    "print(2*2)\n"
   ]
  },
  {
   "cell_type": "code",
   "execution_count": 33,
   "metadata": {},
   "outputs": [
    {
     "name": "stdout",
     "output_type": "stream",
     "text": [
      "MY NAME IS USMAAN AND I AM 26 YEARS OLD\n"
     ]
    }
   ],
   "source": [
    "string = 'my name is usmaan'+' and i am 26 years old'   \n",
    "print(string.upper())\n",
    "\n"
   ]
  },
  {
   "cell_type": "code",
   "execution_count": 34,
   "metadata": {},
   "outputs": [
    {
     "data": {
      "text/plain": [
       "7789.98"
      ]
     },
     "execution_count": 34,
     "metadata": {},
     "output_type": "execute_result"
    }
   ],
   "source": [
    "a='7789.98' \n",
    "float(a)"
   ]
  },
  {
   "cell_type": "code",
   "execution_count": 35,
   "metadata": {},
   "outputs": [
    {
     "data": {
      "text/plain": [
       "True"
      ]
     },
     "execution_count": 35,
     "metadata": {},
     "output_type": "execute_result"
    }
   ],
   "source": [
    "a=6 \n",
    "b=7 \n",
    "((a > 5) | (b > 5 )) "
   ]
  },
  {
   "cell_type": "code",
   "execution_count": 36,
   "metadata": {},
   "outputs": [
    {
     "name": "stdout",
     "output_type": "stream",
     "text": [
      "My name is Usmaan  \n",
      "and my main hobbies are ranked from 1-3 \n",
      "1. archery, 2. football, 3. camping or hiking\n"
     ]
    }
   ],
   "source": [
    "string2 = \"\"\"My name is Usmaan  \n",
    "and my main hobbies are ranked from 1-3 \n",
    "1. archery, 2. football, 3. camping or hiking\"\"\"    \n",
    "print(string2)\n"
   ]
  },
  {
   "cell_type": "code",
   "execution_count": 1,
   "metadata": {},
   "outputs": [
    {
     "ename": "NameError",
     "evalue": "name 'today' is not defined",
     "output_type": "error",
     "traceback": [
      "\u001b[1;31m---------------------------------------------------------------------------\u001b[0m",
      "\u001b[1;31mNameError\u001b[0m                                 Traceback (most recent call last)",
      "\u001b[1;32mc:\\Users\\usmaa\\Desktop\\MMDiD\\Python Test 1\\Python Test 1.ipynb Cell 6\u001b[0m in \u001b[0;36m<cell line: 2>\u001b[1;34m()\u001b[0m\n\u001b[0;32m      <a href='vscode-notebook-cell:/c%3A/Users/usmaa/Desktop/MMDiD/Python%20Test%201/Python%20Test%201.ipynb#ch0000005?line=0'>1</a>\u001b[0m \u001b[39mfrom\u001b[39;00m \u001b[39mdatetime\u001b[39;00m \u001b[39mimport\u001b[39;00m date\n\u001b[1;32m----> <a href='vscode-notebook-cell:/c%3A/Users/usmaa/Desktop/MMDiD/Python%20Test%201/Python%20Test%201.ipynb#ch0000005?line=1'>2</a>\u001b[0m today\u001b[39m.\u001b[39mstrftime(\u001b[39m\"\u001b[39m\u001b[39m%a\u001b[39;00m\u001b[39m, \u001b[39m\u001b[39m%d\u001b[39;00m\u001b[39m/\u001b[39m\u001b[39m%\u001b[39m\u001b[39mm/\u001b[39m\u001b[39m%\u001b[39m\u001b[39my\u001b[39m\u001b[39m\"\u001b[39m)\n",
      "\u001b[1;31mNameError\u001b[0m: name 'today' is not defined"
     ]
    }
   ],
   "source": [
    "from datetime import date\n",
    "today.strftime(\"%a, %d/%m/%y\")"
   ]
  },
  {
   "cell_type": "code",
   "execution_count": 110,
   "metadata": {},
   "outputs": [
    {
     "name": "stdout",
     "output_type": "stream",
     "text": [
      "100\n"
     ]
    }
   ],
   "source": [
    "u = 1\n",
    "total = 0 \n",
    "\n",
    "while total < 100:\n",
    "    total += u\n",
    "    u * 5\n",
    "\n",
    "print(total)\n"
   ]
  },
  {
   "cell_type": "code",
   "execution_count": 37,
   "metadata": {},
   "outputs": [
    {
     "name": "stdout",
     "output_type": "stream",
     "text": [
      "not an integer\n"
     ]
    }
   ],
   "source": [
    "x = 'hello' \n",
    "isinstance(x, int)\n",
    "print (\"not an integer\")"
   ]
  },
  {
   "cell_type": "code",
   "execution_count": 38,
   "metadata": {},
   "outputs": [
    {
     "name": "stdout",
     "output_type": "stream",
     "text": [
      "negative number\n"
     ]
    }
   ],
   "source": [
    "x = -1      \n",
    "if x < 0:\n",
    "    print (\"negative number\")"
   ]
  },
  {
   "cell_type": "code",
   "execution_count": 39,
   "metadata": {},
   "outputs": [
    {
     "name": "stdout",
     "output_type": "stream",
     "text": [
      "positive number\n"
     ]
    }
   ],
   "source": [
    "x = 1 \n",
    "if x > 0:\n",
    "    print (\"positive number\")\n"
   ]
  },
  {
   "cell_type": "code",
   "execution_count": 40,
   "metadata": {},
   "outputs": [
    {
     "name": "stdout",
     "output_type": "stream",
     "text": [
      "Zero\n"
     ]
    }
   ],
   "source": [
    "x = 0 \n",
    "if x == 0:  \n",
    "    print (\"Zero\")"
   ]
  },
  {
   "cell_type": "code",
   "execution_count": 45,
   "metadata": {},
   "outputs": [
    {
     "data": {
      "text/plain": [
       "[0, 2, 4]"
      ]
     },
     "execution_count": 45,
     "metadata": {},
     "output_type": "execute_result"
    }
   ],
   "source": [
    "list1 = [0,2,4,1,3,5]   \n",
    "list1[0:2]\n",
    "\n"
   ]
  },
  {
   "cell_type": "code",
   "execution_count": 48,
   "metadata": {},
   "outputs": [
    {
     "data": {
      "text/plain": [
       "[1, 3, 5]"
      ]
     },
     "execution_count": 48,
     "metadata": {},
     "output_type": "execute_result"
    }
   ],
   "source": [
    "list1[3:6]"
   ]
  },
  {
   "cell_type": "code",
   "execution_count": 47,
   "metadata": {},
   "outputs": [
    {
     "data": {
      "text/plain": [
       "[0, 2, 4]"
      ]
     },
     "execution_count": 47,
     "metadata": {},
     "output_type": "execute_result"
    }
   ],
   "source": [
    "list1[0:3]"
   ]
  },
  {
   "cell_type": "code",
   "execution_count": 91,
   "metadata": {},
   "outputs": [
    {
     "name": "stdout",
     "output_type": "stream",
     "text": [
      "[-1, 2, -8, 83, -22, 33, -62, 9, -9, 12, -11]\n",
      "[2, 83, 33, 9, 12]\n"
     ]
    }
   ],
   "source": [
    "list2 = [-1, 2,- 8, 83, -22, 33, -62, 9, -9, 12, -11]\n",
    "output_list = []\n",
    "\n",
    "for element in range(0, len(list2)): \n",
    "    y = list2[element]\n",
    "\n",
    "    if y > 0:\n",
    "        output_list.append(y)\n",
    "\n",
    "print(list2)\n",
    "print(output_list)"
   ]
  },
  {
   "cell_type": "code",
   "execution_count": 99,
   "metadata": {},
   "outputs": [
    {
     "name": "stdout",
     "output_type": "stream",
     "text": [
      "['1', '2', '3.5', '20.9']\n",
      "[1.0, 2.0, 3.5, 20.9]\n"
     ]
    }
   ],
   "source": [
    "list3 = ['1', '2', '3.5', '20.9']\n",
    "output_list2 = []\n",
    "\n",
    "for position in range(0, len(list3)):\n",
    "    z = list3[position]\n",
    "\n",
    "    if isinstance(z, str):\n",
    "        x = float(z)\n",
    "\n",
    "    output_list2.append(x)\n",
    "\n",
    "print(list3)\n",
    "print(output_list2)"
   ]
  },
  {
   "cell_type": "code",
   "execution_count": 100,
   "metadata": {},
   "outputs": [
    {
     "data": {
      "text/plain": [
       "[1.0, 2.0, 3.5, 20.9]"
      ]
     },
     "execution_count": 100,
     "metadata": {},
     "output_type": "execute_result"
    }
   ],
   "source": [
    "[float(element) for element in list3]\n"
   ]
  },
  {
   "cell_type": "code",
   "execution_count": null,
   "metadata": {},
   "outputs": [],
   "source": []
  }
 ],
 "metadata": {
  "kernelspec": {
   "display_name": "Python 3.10.5 64-bit",
   "language": "python",
   "name": "python3"
  },
  "language_info": {
   "codemirror_mode": {
    "name": "ipython",
    "version": 3
   },
   "file_extension": ".py",
   "mimetype": "text/x-python",
   "name": "python",
   "nbconvert_exporter": "python",
   "pygments_lexer": "ipython3",
   "version": "3.10.5"
  },
  "orig_nbformat": 4,
  "vscode": {
   "interpreter": {
    "hash": "956e58d2fb75f70a5f90a861706fb99dc9fc068be5ea2434a556540f96c0ece5"
   }
  }
 },
 "nbformat": 4,
 "nbformat_minor": 2
}
