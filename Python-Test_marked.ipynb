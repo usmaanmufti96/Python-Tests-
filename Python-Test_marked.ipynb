{
 "cells": [
  {
   "cell_type": "markdown",
   "metadata": {},
   "source": [
    "1. Write code that multiplies 2 integer values and prints the answer."
   ]
  },
  {
   "cell_type": "code",
   "execution_count": null,
   "metadata": {},
   "outputs": [],
   "source": [
    "# Correct\n",
    "print(2*2)"
   ]
  },
  {
   "cell_type": "markdown",
   "metadata": {},
   "source": [
    "2. Write code that capitalize, and concatenates two strings with space in between (hint: you can use +) "
   ]
  },
  {
   "cell_type": "code",
   "execution_count": null,
   "metadata": {},
   "outputs": [],
   "source": [
    "# Correct\n",
    "string = 'my name is usmaan'+' and i am 26 years old'   \n",
    "print(string.upper())"
   ]
  },
  {
   "cell_type": "markdown",
   "metadata": {},
   "source": [
    "3. Convert the string '7789.98' to a float "
   ]
  },
  {
   "cell_type": "code",
   "execution_count": null,
   "metadata": {},
   "outputs": [],
   "source": [
    "# Correct\n",
    "a='7789.98' \n",
    "float(a)"
   ]
  },
  {
   "cell_type": "markdown",
   "metadata": {},
   "source": [
    "4. Write an expression that compares two values and returns True if either value is more than 5."
   ]
  },
  {
   "cell_type": "code",
   "execution_count": null,
   "metadata": {},
   "outputs": [],
   "source": [
    "# Correct\n",
    "a=6 \n",
    "b=7 \n",
    "((a > 5) | (b > 5 )) "
   ]
  },
  {
   "cell_type": "markdown",
   "metadata": {},
   "source": [
    "5. Write a multiline string with  your name and your hobbies (each at a separate line).\n"
   ]
  },
  {
   "cell_type": "code",
   "execution_count": null,
   "metadata": {},
   "outputs": [],
   "source": [
    "# Correct\n",
    "string2 = \"\"\"My name is Usmaan  \n",
    "and my main hobbies are ranked from 1-3 \n",
    "1. archery, 2. football, 3. camping or hiking\"\"\"    \n",
    "print(string2)\n"
   ]
  },
  {
   "cell_type": "markdown",
   "metadata": {},
   "source": [
    "6. Print 'today' in the following format:  \"{Name of Weekday} Day/Month/Year\". Hint: You should look at the `strftime` method. The below lookup table may be useful.\n",
    "\n",
    "| Type | Description   |\n",
    "|------|---------------|\n",
    "| %Y   | 4 digit year  |\n",
    "| %m   | 2 digit month |\n",
    "| %d   | 2 digit day   |\n",
    "| %A   | Weekday Name  |"
   ]
  },
  {
   "cell_type": "code",
   "execution_count": null,
   "metadata": {},
   "outputs": [],
   "source": [
    "# Incorrect. The today variable is not defined. This code doesn't run without error. See correct answer below.\n",
    "from datetime import date\n",
    "today.strftime(\"%a, %d/%m/%y\")"
   ]
  },
  {
   "cell_type": "code",
   "execution_count": null,
   "metadata": {},
   "outputs": [],
   "source": [
    "from datetime import datetime\n",
    "\n",
    "today = datetime.today()\n",
    "today.strftime(\"%A %d/%m/%Y\")"
   ]
  },
  {
   "cell_type": "markdown",
   "metadata": {},
   "source": [
    "7. Assign 1 to a variable, then  write a while loop that multiplies the variable by 5 and breaks when the variable is more than 100."
   ]
  },
  {
   "cell_type": "code",
   "execution_count": null,
   "metadata": {},
   "outputs": [],
   "source": [
    "# This is the right idea but not quite right. See correct answer below\n",
    "u = 1\n",
    "total = 0 \n",
    "\n",
    "while total < 100:\n",
    "    total += u\n",
    "    u * 5\n",
    "\n",
    "print(total)\n"
   ]
  },
  {
   "cell_type": "code",
   "execution_count": null,
   "metadata": {},
   "outputs": [],
   "source": [
    "# Correct Answer\n",
    "x = 1\n",
    "\n",
    "while x < 100:\n",
    "    x = 5*x\n",
    "    print(x)"
   ]
  },
  {
   "cell_type": "markdown",
   "metadata": {},
   "source": [
    "8. Write code that checks a variable x (integer or string) and prints the following:\n",
    "    \n",
    "    \"Not An Integer\" if x is not an integer\n",
    "\n",
    "    \"Negative Number\" if x < 0\n",
    "    \n",
    "    \"Positive Number\" if x > 0 \n",
    "\n",
    "    \"Zero\" if x == 0\n",
    "    "
   ]
  },
  {
   "cell_type": "code",
   "execution_count": null,
   "metadata": {},
   "outputs": [],
   "source": [
    "# Incorrect. The right idea but write the if-else statement as one block. See correct answer\n",
    "x = 'hello' \n",
    "isinstance(x, int)\n",
    "print (\"not an integer\")"
   ]
  },
  {
   "cell_type": "code",
   "execution_count": null,
   "metadata": {},
   "outputs": [],
   "source": [
    "x = -1      \n",
    "if x < 0:\n",
    "    print (\"negative number\")"
   ]
  },
  {
   "cell_type": "code",
   "execution_count": null,
   "metadata": {},
   "outputs": [],
   "source": [
    "x = 1 \n",
    "if x > 0:\n",
    "    print (\"positive number\")\n"
   ]
  },
  {
   "cell_type": "code",
   "execution_count": null,
   "metadata": {},
   "outputs": [],
   "source": [
    "x = 0 \n",
    "if x == 0:  \n",
    "    print (\"Zero\")"
   ]
  },
  {
   "cell_type": "code",
   "execution_count": null,
   "metadata": {},
   "outputs": [],
   "source": [
    "x = \"45\"\n",
    "\n",
    "if type(x) != int:\n",
    "    print(\"Not an Integer\")\n",
    "elif x < 0:\n",
    "    print(\"Negative Number\")\n",
    "elif x > 0: \n",
    "    print(\"Positive Number\")\n",
    "else:\n",
    "    print(\"Zero\")"
   ]
  },
  {
   "cell_type": "markdown",
   "metadata": {},
   "source": [
    "9. Assign the following list to a variable [0,2,4,1,3,5]:\n",
    "\n",
    "    a. Make a sublist with the even numbers. Hint: Use indexing\n",
    "    \n",
    "    b. Make a sublist with odd numbers. Hint: Use indexing\n",
    "    \n",
    "    c. Make a sublist with values from the first index to fourth index. Hint: Use slicing\n"
   ]
  },
  {
   "cell_type": "code",
   "execution_count": null,
   "metadata": {},
   "outputs": [],
   "source": [
    "# Correct\n",
    "list1 = [0,2,4,1,3,5]   \n",
    "list1[0:2]\n",
    "\n"
   ]
  },
  {
   "cell_type": "code",
   "execution_count": null,
   "metadata": {},
   "outputs": [],
   "source": [
    "# Correct\n",
    "list1[3:6]"
   ]
  },
  {
   "cell_type": "code",
   "execution_count": null,
   "metadata": {},
   "outputs": [],
   "source": [
    "# Incorrect. Last index must be include the 4th value\n",
    "list1[0:3]\n",
    "\n",
    "# Correct Answer\n",
    "list1[0:5]"
   ]
  },
  {
   "cell_type": "markdown",
   "metadata": {},
   "source": [
    "10. Consider the following list : [-1, 2,- 8, 83, -22, 33, -62, 9, -9, 12, -11]. Make a new list where only the positive numbers are retained. Hint: Use a for loop or list comprehension."
   ]
  },
  {
   "cell_type": "code",
   "execution_count": null,
   "metadata": {},
   "outputs": [],
   "source": [
    "# Correct\n",
    "list2 = [-1, 2,- 8, 83, -22, 33, -62, 9, -9, 12, -11]\n",
    "output_list = []\n",
    "\n",
    "for element in range(0, len(list2)): \n",
    "    y = list2[element]\n",
    "\n",
    "    if y > 0:\n",
    "        output_list.append(y)\n",
    "\n",
    "#print(list2)\n",
    "print(output_list)"
   ]
  },
  {
   "cell_type": "markdown",
   "metadata": {},
   "source": [
    "11. Convert the elements of the following list into numbers (float)  ['1', '2', '3.5', '20.9'] using loops then using list comprehension. "
   ]
  },
  {
   "cell_type": "code",
   "execution_count": null,
   "metadata": {},
   "outputs": [],
   "source": [
    "# Correct. But you don't need the if statement - all the values are strings so you can just use float() but your code is more comprehensive so bonus points.\n",
    "list3 = ['1', '2', '3.5', '20.9']\n",
    "output_list2 = []\n",
    "\n",
    "for position in range(0, len(list3)):\n",
    "    z = list3[position]\n",
    "\n",
    "    if isinstance(z, str):\n",
    "        x = float(z)\n",
    "\n",
    "    output_list2.append(x)\n",
    "\n",
    "print(list3)\n",
    "print(output_list2)"
   ]
  },
  {
   "cell_type": "code",
   "execution_count": null,
   "metadata": {},
   "outputs": [],
   "source": [
    "# Correct\n",
    "[float(element) for element in list3]\n"
   ]
  },
  {
   "cell_type": "code",
   "execution_count": null,
   "metadata": {},
   "outputs": [],
   "source": []
  }
 ],
 "metadata": {
  "kernelspec": {
   "display_name": "Python 3.10.5 64-bit",
   "language": "python",
   "name": "python3"
  },
  "language_info": {
   "codemirror_mode": {
    "name": "ipython",
    "version": 3
   },
   "file_extension": ".py",
   "mimetype": "text/x-python",
   "name": "python",
   "nbconvert_exporter": "python",
   "pygments_lexer": "ipython3",
   "version": "3.10.2"
  },
  "orig_nbformat": 4,
  "vscode": {
   "interpreter": {
    "hash": "956e58d2fb75f70a5f90a861706fb99dc9fc068be5ea2434a556540f96c0ece5"
   }
  }
 },
 "nbformat": 4,
 "nbformat_minor": 2
}
